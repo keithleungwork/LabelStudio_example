{
 "cells": [
  {
   "cell_type": "code",
   "execution_count": 3,
   "metadata": {},
   "outputs": [
    {
     "name": "stdout",
     "output_type": "stream",
     "text": [
      "\n",
      "\u001b[1m[\u001b[0m\u001b[34;49mnotice\u001b[0m\u001b[1;39;49m]\u001b[0m\u001b[39;49m A new release of pip is available: \u001b[0m\u001b[31;49m23.0.1\u001b[0m\u001b[39;49m -> \u001b[0m\u001b[32;49m23.2.1\u001b[0m\n",
      "\u001b[1m[\u001b[0m\u001b[34;49mnotice\u001b[0m\u001b[1;39;49m]\u001b[0m\u001b[39;49m To update, run: \u001b[0m\u001b[32;49mpip install --upgrade pip\u001b[0m\n"
     ]
    }
   ],
   "source": [
    "!pip install -q label-studio-converter"
   ]
  },
  {
   "cell_type": "code",
   "execution_count": 47,
   "metadata": {},
   "outputs": [],
   "source": [
    "from pathlib import Path\n",
    "from datetime import datetime\n",
    "from pprint import pprint as pp\n",
    "import os\n",
    "import json\n",
    "import copy\n",
    "import logging\n",
    "\n",
    "from label_studio_converter import converter\n",
    "\n",
    "\n",
    "logging.basicConfig(level=logging.INFO)\n",
    "logger = logging.getLogger(__name__)"
   ]
  },
  {
   "cell_type": "code",
   "execution_count": 48,
   "metadata": {},
   "outputs": [],
   "source": [
    "# Labelstudio converter forces to download the images so we can only use this dirty way to avoid it\n",
    "def cus_download(\n",
    "    url,\n",
    "    output_dir,\n",
    "    filename=None,\n",
    "    project_dir=None,\n",
    "    return_relative_path=False,\n",
    "    upload_dir=None,\n",
    "    download_resources=True,\n",
    "):\n",
    "    return url\n",
    "\n",
    "converter.download = cus_download"
   ]
  },
  {
   "cell_type": "code",
   "execution_count": 49,
   "metadata": {},
   "outputs": [],
   "source": [
    "BASE_PATH = \"../../tmp/convert_from_ls\"\n",
    "CURRENT_TIMESTAMP = datetime.now().strftime(\"%Y%m%d%H%M%S\")\n",
    "\n",
    "\n",
    "# Source exported json\n",
    "ls_src_dir = os.path.join(BASE_PATH, \"export_sync_ls\")\n",
    "# final conversionoutput\n",
    "out_file = os.path.join(BASE_PATH, \"output\", CURRENT_TIMESTAMP)\n",
    "os.makedirs(out_file, exist_ok=True)\n",
    "\n",
    "# For conversion of json from export sync API if set to true\n",
    "IS_EXPORT_SYNC = True\n",
    "convert_des = os.path.join(BASE_PATH, 'generated_from_export_sync', CURRENT_TIMESTAMP)\n",
    "os.makedirs(convert_des, exist_ok=True)\n",
    "\n",
    "\n",
    "# Annotation Project setting XML\n",
    "xml_path = os.path.join(BASE_PATH, 'task_config/ocr_invoice.xml')\n",
    "c = converter.Converter(xml_path, None)\n"
   ]
  },
  {
   "cell_type": "code",
   "execution_count": 50,
   "metadata": {},
   "outputs": [
    {
     "name": "stdout",
     "output_type": "stream",
     "text": [
      "Finished processing :  2150\n",
      "Finished processing :  2152\n",
      "Finished processing :  2147\n",
      "Total processed json files :  3\n"
     ]
    }
   ],
   "source": [
    "# 1st step conversion of json from export sync API\n",
    "# Because the JSON from export sync API is not valid for the converter.\n",
    "# We need to convert it first.\n",
    "if IS_EXPORT_SYNC:\n",
    "    json_list = []\n",
    "    # Load all json(with or without .json suffix) from the source directory and convert restructure it\n",
    "    # Then append to the json list\n",
    "    for file in os.listdir(ls_src_dir):\n",
    "        with open(os.path.join(ls_src_dir, file), 'r') as f:\n",
    "            j_obj = json.load(f)\n",
    "            if j_obj:\n",
    "                # The task object should be put in the root of the json\n",
    "                new_j_obj = copy.deepcopy(j_obj.get(\"task\", {}))\n",
    "                del j_obj[\"task\"]\n",
    "                # The remained fields should be put inside \"annotations\" list\n",
    "                new_j_obj[\"annotations\"] = [j_obj]\n",
    "            json_list.append(new_j_obj)\n",
    "        print(\"Finished processing : \", file)\n",
    "    print(\"Total processed json files : \", len(json_list))\n",
    "    # pp(json_list)\n",
    "    # Store the converted correct json to the middle directory\n",
    "    with open(os.path.join(convert_des, \"corrected_export.json\"), 'w') as outfile:\n",
    "        json.dump(json_list, outfile, ensure_ascii=False, indent=4)\n",
    "    # Next step will use this path\n",
    "    ls_convert_src_dir = convert_des\n",
    "else:\n",
    "    # If export sync conversion is not needed, just use the source directory\n",
    "    ls_convert_src_dir = ls_src_dir\n"
   ]
  },
  {
   "cell_type": "code",
   "execution_count": 51,
   "metadata": {},
   "outputs": [
    {
     "name": "stderr",
     "output_type": "stream",
     "text": [
      "WARNING:label_studio_converter.converter:Can't read channels from image\n",
      "WARNING:label_studio_converter.converter:Can't read channels from image\n"
     ]
    },
    {
     "name": "stdout",
     "output_type": "stream",
     "text": [
      "Converting JSON from :  ../../tmp/convert_from_ls/generated_from_export_sync/20230906194549\n",
      "Converted files are stored in :  ../../tmp/convert_from_ls/output/20230906194549\n"
     ]
    }
   ],
   "source": [
    "# Convert from json to voc\n",
    "print(\"Converting JSON from : \", ls_convert_src_dir)\n",
    "c.convert_to_voc(ls_convert_src_dir, os.path.join(out_file, \"voc\"))\n",
    "print(\"Converted files are stored in : \", out_file)"
   ]
  }
 ],
 "metadata": {
  "kernelspec": {
   "display_name": ".venv",
   "language": "python",
   "name": "python3"
  },
  "language_info": {
   "codemirror_mode": {
    "name": "ipython",
    "version": 3
   },
   "file_extension": ".py",
   "mimetype": "text/x-python",
   "name": "python",
   "nbconvert_exporter": "python",
   "pygments_lexer": "ipython3",
   "version": "3.11.3"
  },
  "orig_nbformat": 4
 },
 "nbformat": 4,
 "nbformat_minor": 2
}
